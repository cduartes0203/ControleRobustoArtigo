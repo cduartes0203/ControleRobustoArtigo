{
 "cells": [
  {
   "cell_type": "code",
   "execution_count": 1,
   "id": "965ebff2",
   "metadata": {},
   "outputs": [],
   "source": [
    "# Imports necessários\n",
    "import numpy as np\n",
    "import matplotlib.pyplot as plt\n",
    "from plotly.subplots import make_subplots\n",
    "import plotly.graph_objects as go\n",
    "\n",
    "def PlotSeries(y_arrays, x_arrays=None, w=8, h=5, lw=1.5, ms=3, mrkr=None,\n",
    "               title='', xname='x', yname='y', legend_labels=None,\n",
    "               pltly=True, save=False, file_name='plot.png', return_fig=False):\n",
    "    \"\"\"\n",
    "    Plota ou cria um objeto de figura com múltiplas séries de dados.\n",
    "    \n",
    "    Se return_fig=True, a função retorna o objeto da figura em vez de exibi-lo.\n",
    "    \"\"\"\n",
    "    \n",
    "    if x_arrays is None:\n",
    "        x_arrays = [np.arange(len(y)) for y in y_arrays]\n",
    "    if legend_labels is None:\n",
    "        legend_labels = [f'Série {i+1}' for i in range(len(y_arrays))]\n",
    "\n",
    "    if pltly:\n",
    "        # Para Plotly, retornamos os traços (dados) e o layout (configurações) separadamente\n",
    "        traces = []\n",
    "        for x, y, name in zip(x_arrays, y_arrays, legend_labels):\n",
    "            trace = go.Scatter(x=x, y=y, name=name, mode='lines+markers',\n",
    "                               line=dict(width=lw), marker=dict(size=ms*2))\n",
    "            traces.append(trace)\n",
    "        \n",
    "        layout = go.Layout(width=w*100, height=h*100, title=title,\n",
    "                           xaxis_title=xname, yaxis_title=yname,\n",
    "                           legend_title_text='Legenda')\n",
    "        \n",
    "        fig = go.Figure(data=traces, layout=layout)\n",
    "        \n",
    "        if return_fig:\n",
    "            return fig # Retorna o objeto completo da figura\n",
    "\n",
    "        fig.show()\n",
    "        if save:\n",
    "            try:\n",
    "                fig.write_image(file_name, scale=5)\n",
    "                print(f\"Gráfico salvo como '{file_name}'\")\n",
    "            except ValueError as e:\n",
    "                print(f\"Erro ao salvar a imagem: {e}\")\n",
    "                print(\"Instale 'kaleido': pip install -U kaleido\")\n",
    "    \n",
    "    else: # Matplotlib\n",
    "        fig, ax = plt.subplots(figsize=(w, h))\n",
    "        \n",
    "        for x, y, label in zip(x_arrays, y_arrays, legend_labels):\n",
    "            ax.plot(x, y, linestyle='-', linewidth=lw, marker=mrkr, markersize=ms, label=label)\n",
    "            \n",
    "        ax.set_xlabel(xname)\n",
    "        ax.set_ylabel(yname)\n",
    "        ax.set_title(title)\n",
    "        ax.grid(True)\n",
    "        ax.legend()\n",
    "        \n",
    "        if return_fig:\n",
    "            return fig # Retorna a figura para composição\n",
    "\n",
    "        if save:\n",
    "            plt.savefig(file_name, dpi=300, bbox_inches='tight')\n",
    "            print(f\"Gráfico salvo como '{file_name}'\")\n",
    "\n",
    "        plt.show()\n",
    "        plt.close(fig) # Fecha a figura para liberar memória"
   ]
  },
  {
   "cell_type": "code",
   "execution_count": 2,
   "id": "533209a8",
   "metadata": {},
   "outputs": [],
   "source": [
    "def MultiPlot(plots_data, rows, cols, pltly=True, main_title='', \n",
    "              save=False, file_name='multiplot.png', fig_size=(12, 8)):\n",
    "    \"\"\"\n",
    "    Combina múltiplos gráficos gerados pela PlotSeries em uma única imagem.\n",
    "\n",
    "    Args:\n",
    "        plots_data (list of dict): Uma lista de dicionários, onde cada dicionário\n",
    "                                   contém os argumentos para uma chamada da PlotSeries.\n",
    "        rows (int): Número de linhas na grade de subplots.\n",
    "        cols (int): Número de colunas na grade de subplots.\n",
    "        pltly (bool, optional): Define se usará Plotly ou Matplotlib. Defaults to True.\n",
    "        main_title (str, optional): Título principal para o conjunto de gráficos.\n",
    "        save (bool, optional): Se True, salva a imagem final. Defaults to False.\n",
    "        file_name (str, optional): Nome do arquivo para salvar.\n",
    "        fig_size (tuple, optional): Tamanho total da figura (para Matplotlib).\n",
    "    \"\"\"\n",
    "    if len(plots_data) > rows * cols:\n",
    "        print(f\"Aviso: Você tem {len(plots_data)} gráficos para plotar, mas a grade é de {rows}x{cols}. Alguns gráficos não serão exibidos.\")\n",
    "\n",
    "    if pltly:\n",
    "        # Pega os títulos dos subplots dos dados, se existirem\n",
    "        subplot_titles = [p.get('title', '') for p in plots_data]\n",
    "        fig = make_subplots(rows=rows, cols=cols, subplot_titles=subplot_titles)\n",
    "\n",
    "        for i, plot_args in enumerate(plots_data):\n",
    "            if i >= rows * cols: break\n",
    "            \n",
    "            # Posição na grade\n",
    "            row = i // cols + 1\n",
    "            col = i % cols + 1\n",
    "            \n",
    "            # Gera a figura temporária para extrair os dados (traços)\n",
    "            temp_fig = PlotSeries(pltly=True, return_fig=True, **plot_args)\n",
    "            \n",
    "            # Adiciona os traços da figura temporária ao subplot correto\n",
    "            for trace in temp_fig.data:\n",
    "                fig.add_trace(trace, row=row, col=col)\n",
    "            \n",
    "            # Atualiza os eixos do subplot\n",
    "            fig.update_xaxes(title_text=plot_args.get('xname', 'x'), row=row, col=col)\n",
    "            fig.update_yaxes(title_text=plot_args.get('yname', 'y'), row=row, col=col)\n",
    "\n",
    "        fig.update_layout(title_text=main_title, height=fig_size[1]*100, width=fig_size[0]*100)\n",
    "        fig.show()\n",
    "\n",
    "        if save:\n",
    "            fig.write_image(file_name, scale=3)\n",
    "            print(f\"Multi-plot salvo como '{file_name}'\")\n",
    "\n",
    "    else: # Matplotlib\n",
    "        fig, axes = plt.subplots(rows, cols, figsize=fig_size)\n",
    "        # Garante que 'axes' seja sempre um array iterável\n",
    "        if rows * cols == 1:\n",
    "            axes = [axes]\n",
    "        else:\n",
    "            axes = axes.flatten()\n",
    "\n",
    "        for i, ax in enumerate(axes):\n",
    "            if i >= len(plots_data):\n",
    "                ax.axis('off') # Esconde eixos de subplots não utilizados\n",
    "                continue\n",
    "\n",
    "            plot_args = plots_data[i]\n",
    "            \n",
    "            # Desempacota os argumentos para o plot\n",
    "            x_arrays = plot_args.get('x_arrays')\n",
    "            y_arrays = plot_args.get('y_arrays')\n",
    "            legend_labels = plot_args.get('legend_labels')\n",
    "            \n",
    "            # Lógica de criação de dados padrão (caso não sejam fornecidos)\n",
    "            if y_arrays is None: continue\n",
    "            if x_arrays is None:\n",
    "                x_arrays = [np.arange(len(y)) for y in y_arrays]\n",
    "            if legend_labels is None:\n",
    "                legend_labels = [f'Série {j+1}' for j in range(len(y_arrays))]\n",
    "\n",
    "            # Plota os dados no eixo (ax) correto\n",
    "            for x, y, label in zip(x_arrays, y_arrays, legend_labels):\n",
    "                ax.plot(x, y, label=label)\n",
    "            \n",
    "            ax.set_title(plot_args.get('title', f'Gráfico {i+1}'))\n",
    "            ax.set_xlabel(plot_args.get('xname', 'x'))\n",
    "            ax.set_ylabel(plot_args.get('yname', 'y'))\n",
    "            ax.grid(True)\n",
    "            ax.legend()\n",
    "            \n",
    "        fig.suptitle(main_title, fontsize=16)\n",
    "        fig.tight_layout(rect=[0, 0.03, 1, 0.95]) # Ajusta para o título principal caber\n",
    "\n",
    "        if save:\n",
    "            plt.savefig(file_name, dpi=300)\n",
    "            print(f\"Multi-plot salvo como '{file_name}'\")\n",
    "\n",
    "        plt.show()"
   ]
  },
  {
   "cell_type": "code",
   "execution_count": 7,
   "id": "03e3f14e",
   "metadata": {},
   "outputs": [
    {
     "name": "stdout",
     "output_type": "stream",
     "text": [
      "Gráfico salvo como 'plot.png'\n"
     ]
    },
    {
     "data": {
      "image/png": "[encoded data removed]",
      "text/plain": [
       "<Figure size 800x500 with 1 Axes>"
      ]
     },
     "metadata": {},
     "output_type": "display_data"
    }
   ],
   "source": [
    "x_base = np.linspace(0, 2 * np.pi, 100)\n",
    "PlotSeries(y_arrays=[x_base,x_base*0.3],pltly=False,save=True)"
   ]
  },
  {
   "cell_type": "code",
   "execution_count": 4,
   "id": "52e9f500",
   "metadata": {},
   "outputs": [
    {
     "name": "stdout",
     "output_type": "stream",
     "text": [
      "--- Gerando com Matplotlib (grade 2x2) ---\n"
     ]
    },
    {
     "data": {
      "image/png": "[encoded data removed]",
      "text/plain": [
       "<Figure size 1200x800 with 3 Axes>"
      ]
     },
     "metadata": {},
     "output_type": "display_data"
    },
    {
     "name": "stdout",
     "output_type": "stream",
     "text": [
      "\n",
      "--- Gerando com Plotly (grade 1x3) ---\n"
     ]
    },
    {
     "data": {
      "application/vnd.plotly.v1+json": {
       "config": {
        "plotlyServerURL": "https://plot.ly"
       },
       "data": [
        {
         "line": {
          "width": 1.5
         },
         "marker": {
          "size": 6
         },
         "mode": "lines+markers",
         "name": "Seno",
         "type": "scatter",
         "x": {
          "bdata": "AAAAAAAAAACRGkt8Vz+wP5EaS3xXP8A/2qdwOgNfyD+RGkt8Vz/QPzXhXVstT9Q/2qdwOgNf2D9+boMZ2W7cP5EaS3xXP+A/433Ua0JH4j814V1bLU/kP4dE50oYV+Y/2qdwOgNf6D8sC/op7mbqP35ugxnZbuw/0NEMCcR27j+RGkt8Vz/wPzrMD/RMQ/E/433Ua0JH8j+ML5njN0vzPzXhXVstT/Q/3pIi0yJT9T+HROdKGFf2PzD2q8INW/c/2qdwOgNf+D+DWTWy+GL5PywL+inuZvo/1by+oeNq+z9+boMZ2W78PycgSJHOcv0/0NEMCcR2/j95g9GAuXr/P5EaS3xXPwBAZnMtOFLBAEA6zA/0TEMBQA8l8q9HxQFA433Ua0JHAkC41rYnPckCQIwvmeM3SwNAYYh7nzLNA0A14V1bLU8EQAo6QBco0QRA3pIi0yJTBUCz6wSPHdUFQIdE50oYVwZAXJ3JBhPZBkAw9qvCDVsHQAVPjn4I3QdA2qdwOgNfCECuAFP2/eAIQINZNbL4YglAV7IXbvPkCUAsC/op7mYKQABk3OXo6ApA1by+oeNqC0CpFaFd3uwLQH5ugxnZbgxAUsdl1dPwDEAnIEiRznINQPt4Kk3J9A1A0NEMCcR2DkCkKu/EvvgOQHmD0YC5eg9ATdyzPLT8D0CRGkt8Vz8QQPtGPNpUgBBAZnMtOFLBEEDQnx6WTwIRQDrMD/RMQxFApPgAUkqEEUAPJfKvR8URQHlR4w1FBhJA433Ua0JHEkBNqsXJP4gSQLjWtic9yRJAIgOohToKE0CML5njN0sTQPZbikE1jBNAYYh7nzLNE0DLtGz9Lw4UQDXhXVstTxRAoA1PuSqQFEAKOkAXKNEUQHRmMXUlEhVA3pIi0yJTFUBJvxMxIJQVQLPrBI8d1RVAHRj27BoWFkCHROdKGFcWQPJw2KgVmBZAXJ3JBhPZFkDGybpkEBoXQDD2q8INWxdAmyKdIAucF0AFT45+CN0XQG97f9wFHhhA2qdwOgNfGEBE1GGYAKAYQK4AU/b94BhAGC1EVPshGUA=",
          "dtype": "f8"
         },
         "xaxis": "x",
         "y": {
          "bdata": "AAAAAAAAAAADhrXMjDywP/CDAnguNMA/kayggGI5yD+aiNkBzxLQP9ofIiFb+NM/+5MNU1HJ1z+CQNqEwoHbPxlNPurYHd8/C1i7+O1M4T9GhZoMGvniPxwWPFK3keQ/ABg/lCAV5j+GGZN4xoHnP4hAIRwx1ug/lkFFlgER6j93zoZi8zDrPzKcHq/dNOw/EyzujrQb7T/B8a4NiuTtP/0jPCWPju4/3176khQZ7z8XHIGMi4PvPzTGy1KGze8/g6xao7j27z/vOc8G+P7vP2Zmsvw75u8/70I4BJ6s7z+/l/eBWVLvPwOssILL1+4/xVNiW3I97j+TIxAn7YPtP1EHwCL7q+w/qkxY6Hq26z+RVimJaaTqP5aCD4nhduk/oSg6uxkv6D+158MBZM7mP9KHZvErVuU/8nixWvXH4z8mRkW6WiXiP2ITsJELcOA/8qg+VZVT3T/agWKM2KjZP/gLinSo49U/v412/ecH0j/lKaSyIjPMP+bENsZjOcQ/3FNHxZdVuD+s23zJpD6gP8nbfMmkPqC/6lNHxZdVuL/txDbGYznEv9wppLIiM8y/wo12/ecH0r/0C4p0qOPVv92BYozYqNm/7qg+VZVT3b9jE7CRC3DgvyRGRbpaJeK/83ixWvXH47/Rh2bxK1blv7fnwwFkzua/oCg6uxkv6L+Xgg+J4Xbpv5BWKYlppOq/rExY6Hq2679SB8Ai+6vsv5MjECftg+2/xFNiW3I97r8ErLCCy9fuv7+X94FZUu+/70I4BJ6s779lZrL8O+bvv+85zwb4/u+/g6xao7j27780xstShs3vvxgcgYyLg++/3176khQZ77/9Izwlj47uv8Lxrg2K5O2/EizujrQb7b8xnB6v3TTsv3fOhmLzMOu/l0FFlgER6r+GQCEcMdbov4QZk3jGgee/ABg/lCAV5r8fFjxSt5Hkv0SFmgwa+eK/Cli7+O1M4b8bTT7q2B3fv4dA2oTCgdu/9ZMNU1HJ17/ZHyIhW/jTv52I2QHPEtC/gKyggGI5yL/ogwJ4LjTAvwSGtcyMPLC/B1wUMyamsbw=",
          "dtype": "f8"
         },
         "yaxis": "y"
        },
        {
         "line": {
          "width": 1.5
         },
         "marker": {
          "size": 6
         },
         "mode": "lines+markers",
         "name": "Cosseno",
         "type": "scatter",
         "x": {
          "bdata": "AAAAAAAAAACRGkt8Vz+wP5EaS3xXP8A/2qdwOgNfyD+RGkt8Vz/QPzXhXVstT9Q/2qdwOgNf2D9+boMZ2W7cP5EaS3xXP+A/433Ua0JH4j814V1bLU/kP4dE50oYV+Y/2qdwOgNf6D8sC/op7mbqP35ugxnZbuw/0NEMCcR27j+RGkt8Vz/wPzrMD/RMQ/E/433Ua0JH8j+ML5njN0vzPzXhXVstT/Q/3pIi0yJT9T+HROdKGFf2PzD2q8INW/c/2qdwOgNf+D+DWTWy+GL5PywL+inuZvo/1by+oeNq+z9+boMZ2W78PycgSJHOcv0/0NEMCcR2/j95g9GAuXr/P5EaS3xXPwBAZnMtOFLBAEA6zA/0TEMBQA8l8q9HxQFA433Ua0JHAkC41rYnPckCQIwvmeM3SwNAYYh7nzLNA0A14V1bLU8EQAo6QBco0QRA3pIi0yJTBUCz6wSPHdUFQIdE50oYVwZAXJ3JBhPZBkAw9qvCDVsHQAVPjn4I3QdA2qdwOgNfCECuAFP2/eAIQINZNbL4YglAV7IXbvPkCUAsC/op7mYKQABk3OXo6ApA1by+oeNqC0CpFaFd3uwLQH5ugxnZbgxAUsdl1dPwDEAnIEiRznINQPt4Kk3J9A1A0NEMCcR2DkCkKu/EvvgOQHmD0YC5eg9ATdyzPLT8D0CRGkt8Vz8QQPtGPNpUgBBAZnMtOFLBEEDQnx6WTwIRQDrMD/RMQxFApPgAUkqEEUAPJfKvR8URQHlR4w1FBhJA433Ua0JHEkBNqsXJP4gSQLjWtic9yRJAIgOohToKE0CML5njN0sTQPZbikE1jBNAYYh7nzLNE0DLtGz9Lw4UQDXhXVstTxRAoA1PuSqQFEAKOkAXKNEUQHRmMXUlEhVA3pIi0yJTFUBJvxMxIJQVQLPrBI8d1RVAHRj27BoWFkCHROdKGFcWQPJw2KgVmBZAXJ3JBhPZFkDGybpkEBoXQDD2q8INWxdAmyKdIAucF0AFT45+CN0XQG97f9wFHhhA2qdwOgNfGEBE1GGYAKAYQK4AU/b94BhAGC1EVPshGUA=",
          "dtype": "f8"
         },
         "xaxis": "x",
         "y": {
          "bdata": "AAAAAAAA8D+VSynBge/vP2j6BgUYvu8/Jek3u/Vr7z8jfxaOb/nuP/FJcov7Zu4/XLHeqjC17T9+NRQyxuTsP1+hBPiS9us/uvBkh4zr6j9WMpEhxsTpPzlQz6Jvg+g/tTkVSdQo5z+WUJVeWbblP0ATccl8LeQ/A6sNgtOP4j9cLKDxB9/gP1a1P3WwOd4/thLH2SiW2j+KU4hOOdfWP1tDY1G+ANM/jFrgSlktzj+Mcwt+GjrGPyLsuGvkX7w/cyCwKKhcqD/N+ijPKj+QvwzJ6KS5SbS/3kQPZF83wr9P3qvaGjfKv5OAwi7oDdG/PSGBd67u1L83i/Tn4LnYv4vJmF6Wa9y/AgAAAAAA4L/P5tyRtrnhv860DJEnYeO/hlh3f5705L/bPrV2e3Lmv11Sx9Q02ee/JuDa0Vgn6b9dHHf9jlvqv4pZi6GZdOu/wfLvCVdx7L/ZTwivwlDtvxstUkL2Ee6/V1DNmyq07r9D8kaHuDbvvwQ9tXAZme+/XjTx7ufa778HB0As4PvvvwcHQCzg+++/XjTx7ufa778EPbVwGZnvv0PyRoe4Nu+/V1DNmyq07r8cLVJC9hHuv9lPCK/CUO2/wvLvCVdx7L+JWYuhmXTrv14cd/2OW+q/JeDa0Vgn6b9eUsfUNNnnv9o+tXZ7cua/iFh3f5705L/MtAyRJ2Hjv9Hm3JG2ueG/+f//////37+IyZhelmvcvzeL9Ofgudi/QSGBd67u1L+MgMIu6A3Rv0jeq9oaN8q/3kQPZF83wr8eyeikuUm0v1T6KM8qP5C/kCCwKKhcqD8R7Lhr5F+8P3xzC34aOsY/k1rgSlktzj9bQ2NRvgDTP4ZTiE4519Y/vRLH2SiW2j9ZtT91sDneP1wsoPEH3+A/AasNgtOP4j9DE3HJfC3kP5dQlV5ZtuU/tDkVSdQo5z83UM+ib4PoP1cykSHGxOk/uvBkh4zr6j9eoQT4kvbrP301FDLG5Ow/XbHeqjC17T/xSXKL+2buPyN/Fo5v+e4/Juk3u/Vr7z9o+gYFGL7vP5VLKcGB7+8/AAAAAAAA8D8=",
          "dtype": "f8"
         },
         "yaxis": "y"
        },
        {
         "line": {
          "width": 1.5
         },
         "marker": {
          "size": 6
         },
         "mode": "lines+markers",
         "name": "x^2",
         "type": "scatter",
         "x": {
          "bdata": "AAAAAAAAFMBDYt7OkJgTwIbEvJ0hMRPAyiabbLLJEsANiXk7Q2ISwFDrVwrU+hHAk0022WSTEcDXrxSo9SsRwBoS83aGxBDAXXTRRRddEMBArV8pUOsPwMdxHMdxHA/ATjbZZJNNDsDU+pUCtX4NwFq/UqDWrwzA4YMPPvjgC8BoSMzbGRILwO4MiXk7QwrAdNFFF110CcD7lQK1fqUIwIFav1Kg1gfACB988MEHB8CO4ziO4zgGwBWo9SsFagXAm2yyySabBMAiMW9nSMwDwKj1KwVq/QLAL7rooosuAsC1fqVArV8BwDxDYt7OkADAhA8++OCD/7+SmLczJOb9v54hMW9nSPy/qqqqqqqq+r+4MyTm7Qz5v8S8nSExb/e/0kUXXXTR9b/ezpCYtzP0v+xXCtT6lfK/+OCDDz748L8I1PqVArXuvyjm7QyJeeu/QPjggw8+6L9YCtT6lQLlv3Acx3Ecx+G/IF100UUX3b9QgVq/UqDWv4ClQK1fKdC/YJNNNtlkw78Ab2dIzNupvwBvZ0jM26k/YJNNNtlkwz+ApUCtXynQP1CBWr9SoNY/EF100UUX3T9wHMdxHMfhP1gK1PqVAuU/QPjggw8+6D8g5u0MiXnrPwjU+pUCte4/+OCDDz748D/sVwrU+pXyP9zOkJi3M/Q/0EUXXXTR9T/EvJ0hMW/3P7gzJObtDPk/rKqqqqqq+j+cITFvZ0j8P5CYtzMk5v0/hA8++OCD/z88Q2LezpAAQLR+pUCtXwFALrrooosuAkCo9SsFav0CQCIxb2dIzANAmmyyySabBEAUqPUrBWoFQI7jOI7jOAZACB988MEHB0CAWr9SoNYHQPyVArV+pQhAdNFFF110CUDsDIl5O0MKQGhIzNsZEgtA4IMPPvjgC0Bcv1Kg1q8MQNT6lQK1fg1ATDbZZJNNDkDIcRzHcRwPQECtXylQ6w9AXHTRRRddEEAaEvN2hsQQQNavFKj1KxFAlE022WSTEUBQ61cK1PoRQAyJeTtDYhJAyiabbLLJEkCGxLydITETQERi3s6QmBNAAAAAAAAAFEA=",
          "dtype": "f8"
         },
         "xaxis": "x2",
         "y": {
          "bdata": "AAAAAAAAOUDAQMmvBgA4QLAXzbRGBTdA0oQLD8APNkAjiIS+ch81QKQhOMNeNDRAVVEmHYROM0A5F0/M4m0yQEtzstB6kjFAjmVQKky8MEAA3FGyrdYvQEgZeLo1Py5A8YITbTCyLED4GCTKnS8rQGDbqdF9tylAK8qkg9BJKEBW5RTgleYmQOAs+ubNjSVAy6BUmHg/JEAXQST0lfsiQMMNafolwiFA0gYjqyiTIEB+WKQMPN0eQB387BcMqRxAevgfeMGJGkCbTT0tXH8YQHv7RDfciRZAHwI3lkGpFECBYRNKjN0SQKcZ2lK8JhFAGVUWYaMJD0BqKE3GmO8LQDqtWNVY/whAjeM4juM4BkBmy+3wOJwDQL5kd/1YKQFANl+rZ4fA/T/xVxEo8oH5P7azIDzylvU/e3LZo4f/8T+MKHe+ZHftPzoyjtzkluc/5AH4oY9d4j8zL2kdypbbP7Pmh0XKwNM/sVSYeD9yyj8G6NcGKv+/PwRXFVcqU7A/Z9mjh/+Blz/6wFjqVOVkP/rAWOpU5WQ/Z9mjh/+Blz8EVxVXKlOwPwbo1wYq/78/lFSYeD9yyj+z5odFysDTPzMvaR3Klts/5AH4oY9d4j8tMo7c5JbnP4wod75kd+0/e3LZo4f/8T+2syA88pb1P+xXESjygfk/MV+rZ4fA/T++ZHf9WCkBQGbL7fA4nANAkOM4juM4BkA3rVjVWP8IQGcoTcaY7wtAGVUWYaMJD0CnGdpSvCYRQH9hE0qM3RJAHAI3lkGpFEB7+0Q33IkWQJtNPS1cfxhAd/gfeMGJGkAa/OwXDKkcQH5YpAw83R5A0gYjqyiTIEDCDWn6JcIhQBlBJPSV+yJAy6BUmHg/JEDdLPrmzY0lQFblFOCV5iZAKcqkg9BJKEBk26nRfbcpQPgYJMqdLytA7YITbTCyLEBKGXi6NT8uQADcUbKt1i9AjGVQKky8MEBLc7LQepIxQDcXT8zibTJAWFEmHYROM0CkITjDXjQ0QCGIhL5yHzVA0oQLD8APNkCwF820RgU3QMJAya8GADhAAAAAAAAAOUA=",
          "dtype": "f8"
         },
         "yaxis": "y2"
        },
        {
         "line": {
          "width": 1.5
         },
         "marker": {
          "size": 6
         },
         "mode": "lines+markers",
         "name": "x^3",
         "type": "scatter",
         "x": {
          "bdata": "AAAAAAAAFMBDYt7OkJgTwIbEvJ0hMRPAyiabbLLJEsANiXk7Q2ISwFDrVwrU+hHAk0022WSTEcDXrxSo9SsRwBoS83aGxBDAXXTRRRddEMBArV8pUOsPwMdxHMdxHA/ATjbZZJNNDsDU+pUCtX4NwFq/UqDWrwzA4YMPPvjgC8BoSMzbGRILwO4MiXk7QwrAdNFFF110CcD7lQK1fqUIwIFav1Kg1gfACB988MEHB8CO4ziO4zgGwBWo9SsFagXAm2yyySabBMAiMW9nSMwDwKj1KwVq/QLAL7rooosuAsC1fqVArV8BwDxDYt7OkADAhA8++OCD/7+SmLczJOb9v54hMW9nSPy/qqqqqqqq+r+4MyTm7Qz5v8S8nSExb/e/0kUXXXTR9b/ezpCYtzP0v+xXCtT6lfK/+OCDDz748L8I1PqVArXuvyjm7QyJeeu/QPjggw8+6L9YCtT6lQLlv3Acx3Ecx+G/IF100UUX3b9QgVq/UqDWv4ClQK1fKdC/YJNNNtlkw78Ab2dIzNupvwBvZ0jM26k/YJNNNtlkwz+ApUCtXynQP1CBWr9SoNY/EF100UUX3T9wHMdxHMfhP1gK1PqVAuU/QPjggw8+6D8g5u0MiXnrPwjU+pUCte4/+OCDDz748D/sVwrU+pXyP9zOkJi3M/Q/0EUXXXTR9T/EvJ0hMW/3P7gzJObtDPk/rKqqqqqq+j+cITFvZ0j8P5CYtzMk5v0/hA8++OCD/z88Q2LezpAAQLR+pUCtXwFALrrooosuAkCo9SsFav0CQCIxb2dIzANAmmyyySabBEAUqPUrBWoFQI7jOI7jOAZACB988MEHB0CAWr9SoNYHQPyVArV+pQhAdNFFF110CUDsDIl5O0MKQGhIzNsZEgtA4IMPPvjgC0Bcv1Kg1q8MQNT6lQK1fg1ATDbZZJNNDkDIcRzHcRwPQECtXylQ6w9AXHTRRRddEEAaEvN2hsQQQNavFKj1KxFAlE022WSTEUBQ61cK1PoRQAyJeTtDYhJAyiabbLLJEkCGxLydITETQERi3s6QmBNAAAAAAAAAFEA=",
          "dtype": "f8"
         },
         "xaxis": "x2",
         "y": {
          "bdata": "AAAAAABAX8C3DM9m4WRdwK9zEn30nFvA99ui8tPnWcCV7Fh3GkVYwJdMDbtitFbACqOYbUc1VcD9ltM+Y8dTwHTPlt5QalLAf/O6/KodUcBVVDGSGMJPwAY1EeceaE3AJ9fGV54sS8DLiANEzA5JwA6YeAveDUfAClPXDQkpRcDUB9Gqgl9DwIEEF0KAsEHALZdaMzcbQMDdG5q8uT09wLhtP0VNdTrAHsAHwJPbN8A7r1Xs9241wELXi4nkLTPAXtQMV8QWMcCGhXYoBFAuwDl98wARwCrAO8hVtoR6J8DjnmLHNHwkwJg537L2wSHAY6Eh7z+RHsApOXkoDBoawDWrTw/9FxbASmgvob2EEsBVwkW38bMOwBUNaXizIgnAYJLdgBZJBMCjM7jLcBoAwMykG6gwFPm/NaDmKcYW878AOfYlnEbsv1y5BbPoQOS/g46ezpPT279q0UxeLx3Sv4yOetun8sW/7u9bVsUKuL9h2gd0u5+mvxUSJRJhfZC/ZqoEEYt+bL/WBX45seIgv9YFfjmx4iA/ZqoEEYt+bD8VEiUSYX2QP2HaB3S7n6Y/xu9bVsUKuD+Mjnrbp/LFP2rRTF4vHdI/g46ezpPT2z9KuQWz6EDkPwA59iWcRuw/NaDmKcYW8z/MpBuoMBT5P58zuMtwGgBAWpLdgBZJBEAVDWl4syIJQFXCRbfxsw5AT2gvob2EEkAwq08P/RcWQCQ5eSgMGhpAY6Eh7z+RHkCYOd+y9sEhQN+eYsc0fCRAN8hVtoR6J0A5ffMAEcAqQIaFdigEUC5AW9QMV8QWMUA/14uJ5C0zQDuvVez3bjVAHsAHwJPbN0C0bT9FTXU6QOEbmry5PT1ALZdaMzcbQEB9BBdCgLBBQNQH0aqCX0NACFPXDQkpRUATmHgL3g1HQMuIA0TMDklAIdfGV54sS0AJNRHnHmhNQFVUMZIYwk9AfPO6/KodUUB0z5beUGpSQPmW0z5jx1NADqOYbUc1VUCXTA27YrRWQJHsWHcaRVhA99ui8tPnWUCvcxJ99JxbQLsMz2bhZF1AAAAAAABAX0A=",
          "dtype": "f8"
         },
         "yaxis": "y2"
        },
        {
         "line": {
          "width": 1.5
         },
         "marker": {
          "size": 6
         },
         "mode": "lines+markers",
         "name": "Série 1",
         "type": "scatter",
         "x": {
          "bdata": "AAAAAAAAAAAxb2dIzNupPzFvZ0jM27k/ZZNNNtlkwz8xb2dIzNvJP3+lQK1fKdA/ZZNNNtlk0z9LgVq/UqDWPzFvZ0jM29k/F1100UUX3T9/pUCtXyngP3Icx3Ecx+E/ZZNNNtlk4z9YCtT6lQLlP0uBWr9SoOY/Pvjggw8+6D8xb2dIzNvpPyTm7QyJees/F1100UUX7T8K1PqVArXuP3+lQK1fKfA/+OCDDz748D9yHMdxHMfxP+tXCtT6lfI/ZZNNNtlk8z/ezpCYtzP0P1gK1PqVAvU/0UUXXXTR9T9LgVq/UqD2P8S8nSExb/c/Pvjggw8++D+3MyTm7Qz5PzFvZ0jM2/k/q6qqqqqq+j8k5u0MiXn7P54hMW9nSPw/F1100UUX/T+RmLczJOb9PwrU+pUCtf4/hA8++OCD/z9/pUCtXykAQDtDYt7OkABA+OCDDz74AEC1fqVArV8BQHIcx3EcxwFALrrooosuAkDrVwrU+pUCQKj1KwVq/QJAZZNNNtlkA0AiMW9nSMwDQN7OkJi3MwRAm2yyySabBEBYCtT6lQIFQBWo9SsFagVA0UUXXXTRBUCO4ziO4zgGQEuBWr9SoAZACB988MEHB0DEvJ0hMW8HQIFav1Kg1gdAPvjggw8+CED7lQK1fqUIQLczJObtDAlAdNFFF110CUAxb2dIzNsJQO4MiXk7QwpAq6qqqqqqCkBnSMzbGRILQCTm7QyJeQtA4YMPPvjgC0CeITFvZ0gMQFq/UqDWrwxAF1100UUXDUDU+pUCtX4NQJGYtzMk5g1ATTbZZJNNDkAK1PqVArUOQMdxHMdxHA9AhA8++OCDD0BArV8pUOsPQH+lQK1fKRBAXXTRRRddEEA7Q2LezpAQQBoS83aGxBBA+OCDDz74EEDXrxSo9SsRQLV+pUCtXxFAk0022WSTEUByHMdxHMcRQFDrVwrU+hFALrrooosuEkANiXk7Q2ISQOtXCtT6lRJAyiabbLLJEkCo9SsFav0SQIbEvJ0hMRNAZZNNNtlkE0BDYt7OkJgTQCIxb2dIzBNAAAAAAAAAFEA=",
          "dtype": "f8"
         },
         "xaxis": "x3",
         "y": {
          "bdata": "AAAAAAAA8D9eWJiELtTwP5i0cdpas/E/Y4KVxBae8j8RNQ2T+5TzP9B5BIeqmPQ/OVQbPM2p9T8W7SwXFsn2P2Rt07pA9/c/Nv/0gRI1+T8k/6kAW4P6P5WO0Iv04vs/hhOmx8RU/T/ByMM9vdn+P08qcP1tOQBAvLdeGpYQAUC6/FZ84/IBQBw+k/Hp4AJAlv5n8ETbA0Amnc38l+IEQDp6LBOP9wVALWSxGN8aB0AJqXNRRk0IQCj4udyMjwlA2T2vN4XiCkBc19zGDEcMQMzpw2YMvg1AIU30A3lID0CRMIIdqnMQQIojaYDWTRFAezK+KVAzEkDxY0L6rCQTQFJ8TJaKIhRAjhC/zI4tFUCqAFQDaEYWQEMVhKjNbRdADCVVq4CkGEAyAl35S+sZQLp8SwMFQxtABAtSSIysHEDpJMTozSgeQPgVUEDCuB9AfoAaRLeuIEBTA/DA8oshQFT/LxWkdCJA53uSO2NpI0AlY0MO0GokQPskSq+SeSVADedZ9luWJkBe+lHk5cEnQNYGuhz0/ChARkWJZVRIKkCXPIwt36QrQNrJwBl4Ey1As8YEmg6VLkAZNbxCTxUwQOFDfV+Y6jBAVg0V8e3KMUB/Dq984rYyQL9BhR4QrzNA8a+H7hi0NECH0jpqp8Y1QPvrEeRu5zZAHBGO+CsXOEAIYm4JpVY5QFjoQb+qpjpArrqvkRgIPEBaaM5W1Xs9QB9M6NnTAj9AOp8HvQlPQED0nHNoUCdBQLVwCjHLCkJAjT7hqQ76QkDF+FkYt/VDQPk5NNpo/kRALKfn0NAURkCd943SpDlHQLJhpiCkbUhAr/7/5JexSUAmuxy1UwZLQH+kYhy2bExARNV1LanlTUDa7xkbI3JPQIaAf2yTiVBAZ2hxYuJkUUA7jDqsjUtSQL1mOfIrPlNAKFu5qls9VEDn6HGBw0lVQJphYsQSZFZA8DpR1gGNV0A2xDmnUsVYQKTn9jLRDVpAuLJ9BlRnW0ALqf7LvNJcQIloSd74UF5AH+LS4wHjX0DJs+E478RgQPaGu1tRo2FAjzNwmTiNYkA=",
          "dtype": "f8"
         },
         "yaxis": "y3"
        }
       ],
       "layout": {
        "annotations": [
         {
          "font": {
           "size": 16
          },
          "showarrow": false,
          "text": "Funções Trigonométricas",
          "x": 0.14444444444444446,
          "xanchor": "center",
          "xref": "paper",
          "y": 1,
          "yanchor": "bottom",
          "yref": "paper"
         },
         {
          "font": {
           "size": 16
          },
          "showarrow": false,
          "text": "Funções Polinomiais",
          "x": 0.5,
          "xanchor": "center",
          "xref": "paper",
          "y": 1,
          "yanchor": "bottom",
          "yref": "paper"
         },
         {
          "font": {
           "size": 16
          },
          "showarrow": false,
          "text": "Função Exponencial",
          "x": 0.8555555555555556,
          "xanchor": "center",
          "xref": "paper",
          "y": 1,
          "yanchor": "bottom",
          "yref": "paper"
         }
        ],
        "height": 500,
        "template": {
         "data": {
          "bar": [
           {
            "error_x": {
             "color": "#2a3f5f"
            },
            "error_y": {
             "color": "#2a3f5f"
            },
            "marker": {
             "line": {
              "color": "#E5ECF6",
              "width": 0.5
             },
             "pattern": {
              "fillmode": "overlay",
              "size": 10,
              "solidity": 0.2
             }
            },
            "type": "bar"
           }
          ],
          "barpolar": [
           {
            "marker": {
             "line": {
              "color": "#E5ECF6",
              "width": 0.5
             },
             "pattern": {
              "fillmode": "overlay",
              "size": 10,
              "solidity": 0.2
             }
            },
            "type": "barpolar"
           }
          ],
          "carpet": [
           {
            "aaxis": {
             "endlinecolor": "#2a3f5f",
             "gridcolor": "white",
             "linecolor": "white",
             "minorgridcolor": "white",
             "startlinecolor": "#2a3f5f"
            },
            "baxis": {
             "endlinecolor": "#2a3f5f",
             "gridcolor": "white",
             "linecolor": "white",
             "minorgridcolor": "white",
             "startlinecolor": "#2a3f5f"
            },
            "type": "carpet"
           }
          ],
          "choropleth": [
           {
            "colorbar": {
             "outlinewidth": 0,
             "ticks": ""
            },
            "type": "choropleth"
           }
          ],
          "contour": [
           {
            "colorbar": {
             "outlinewidth": 0,
             "ticks": ""
            },
            "colorscale": [
             [
              0,
              "#0d0887"
             ],
             [
              0.1111111111111111,
              "#46039f"
             ],
             [
              0.2222222222222222,
              "#7201a8"
             ],
             [
              0.3333333333333333,
              "#9c179e"
             ],
             [
              0.4444444444444444,
              "#bd3786"
             ],
             [
              0.5555555555555556,
              "#d8576b"
             ],
             [
              0.6666666666666666,
              "#ed7953"
             ],
             [
              0.7777777777777778,
              "#fb9f3a"
             ],
             [
              0.8888888888888888,
              "#fdca26"
             ],
             [
              1,
              "#f0f921"
             ]
            ],
            "type": "contour"
           }
          ],
          "contourcarpet": [
           {
            "colorbar": {
             "outlinewidth": 0,
             "ticks": ""
            },
            "type": "contourcarpet"
           }
          ],
          "heatmap": [
           {
            "colorbar": {
             "outlinewidth": 0,
             "ticks": ""
            },
            "colorscale": [
             [
              0,
              "#0d0887"
             ],
             [
              0.1111111111111111,
              "#46039f"
             ],
             [
              0.2222222222222222,
              "#7201a8"
             ],
             [
              0.3333333333333333,
              "#9c179e"
             ],
             [
              0.4444444444444444,
              "#bd3786"
             ],
             [
              0.5555555555555556,
              "#d8576b"
             ],
             [
              0.6666666666666666,
              "#ed7953"
             ],
             [
              0.7777777777777778,
              "#fb9f3a"
             ],
             [
              0.8888888888888888,
              "#fdca26"
             ],
             [
              1,
              "#f0f921"
             ]
            ],
            "type": "heatmap"
           }
          ],
          "histogram": [
           {
            "marker": {
             "pattern": {
              "fillmode": "overlay",
              "size": 10,
              "solidity": 0.2
             }
            },
            "type": "histogram"
           }
          ],
          "histogram2d": [
           {
            "colorbar": {
             "outlinewidth": 0,
             "ticks": ""
            },
            "colorscale": [
             [
              0,
              "#0d0887"
             ],
             [
              0.1111111111111111,
              "#46039f"
             ],
             [
              0.2222222222222222,
              "#7201a8"
             ],
             [
              0.3333333333333333,
              "#9c179e"
             ],
             [
              0.4444444444444444,
              "#bd3786"
             ],
             [
              0.5555555555555556,
              "#d8576b"
             ],
             [
              0.6666666666666666,
              "#ed7953"
             ],
             [
              0.7777777777777778,
              "#fb9f3a"
             ],
             [
              0.8888888888888888,
              "#fdca26"
             ],
             [
              1,
              "#f0f921"
             ]
            ],
            "type": "histogram2d"
           }
          ],
          "histogram2dcontour": [
           {
            "colorbar": {
             "outlinewidth": 0,
             "ticks": ""
            },
            "colorscale": [
             [
              0,
              "#0d0887"
             ],
             [
              0.1111111111111111,
              "#46039f"
             ],
             [
              0.2222222222222222,
              "#7201a8"
             ],
             [
              0.3333333333333333,
              "#9c179e"
             ],
             [
              0.4444444444444444,
              "#bd3786"
             ],
             [
              0.5555555555555556,
              "#d8576b"
             ],
             [
              0.6666666666666666,
              "#ed7953"
             ],
             [
              0.7777777777777778,
              "#fb9f3a"
             ],
             [
              0.8888888888888888,
              "#fdca26"
             ],
             [
              1,
              "#f0f921"
             ]
            ],
            "type": "histogram2dcontour"
           }
          ],
          "mesh3d": [
           {
            "colorbar": {
             "outlinewidth": 0,
             "ticks": ""
            },
            "type": "mesh3d"
           }
          ],
          "parcoords": [
           {
            "line": {
             "colorbar": {
              "outlinewidth": 0,
              "ticks": ""
             }
            },
            "type": "parcoords"
           }
          ],
          "pie": [
           {
            "automargin": true,
            "type": "pie"
           }
          ],
          "scatter": [
           {
            "fillpattern": {
             "fillmode": "overlay",
             "size": 10,
             "solidity": 0.2
            },
            "type": "scatter"
           }
          ],
          "scatter3d": [
           {
            "line": {
             "colorbar": {
              "outlinewidth": 0,
              "ticks": ""
             }
            },
            "marker": {
             "colorbar": {
              "outlinewidth": 0,
              "ticks": ""
             }
            },
            "type": "scatter3d"
           }
          ],
          "scattercarpet": [
           {
            "marker": {
             "colorbar": {
              "outlinewidth": 0,
              "ticks": ""
             }
            },
            "type": "scattercarpet"
           }
          ],
          "scattergeo": [
           {
            "marker": {
             "colorbar": {
              "outlinewidth": 0,
              "ticks": ""
             }
            },
            "type": "scattergeo"
           }
          ],
          "scattergl": [
           {
            "marker": {
             "colorbar": {
              "outlinewidth": 0,
              "ticks": ""
             }
            },
            "type": "scattergl"
           }
          ],
          "scattermap": [
           {
            "marker": {
             "colorbar": {
              "outlinewidth": 0,
              "ticks": ""
             }
            },
            "type": "scattermap"
           }
          ],
          "scattermapbox": [
           {
            "marker": {
             "colorbar": {
              "outlinewidth": 0,
              "ticks": ""
             }
            },
            "type": "scattermapbox"
           }
          ],
          "scatterpolar": [
           {
            "marker": {
             "colorbar": {
              "outlinewidth": 0,
              "ticks": ""
             }
            },
            "type": "scatterpolar"
           }
          ],
          "scatterpolargl": [
           {
            "marker": {
             "colorbar": {
              "outlinewidth": 0,
              "ticks": ""
             }
            },
            "type": "scatterpolargl"
           }
          ],
          "scatterternary": [
           {
            "marker": {
             "colorbar": {
              "outlinewidth": 0,
              "ticks": ""
             }
            },
            "type": "scatterternary"
           }
          ],
          "surface": [
           {
            "colorbar": {
             "outlinewidth": 0,
             "ticks": ""
            },
            "colorscale": [
             [
              0,
              "#0d0887"
             ],
             [
              0.1111111111111111,
              "#46039f"
             ],
             [
              0.2222222222222222,
              "#7201a8"
             ],
             [
              0.3333333333333333,
              "#9c179e"
             ],
             [
              0.4444444444444444,
              "#bd3786"
             ],
             [
              0.5555555555555556,
              "#d8576b"
             ],
             [
              0.6666666666666666,
              "#ed7953"
             ],
             [
              0.7777777777777778,
              "#fb9f3a"
             ],
             [
              0.8888888888888888,
              "#fdca26"
             ],
             [
              1,
              "#f0f921"
             ]
            ],
            "type": "surface"
           }
          ],
          "table": [
           {
            "cells": {
             "fill": {
              "color": "#EBF0F8"
             },
             "line": {
              "color": "white"
             }
            },
            "header": {
             "fill": {
              "color": "#C8D4E3"
             },
             "line": {
              "color": "white"
             }
            },
            "type": "table"
           }
          ]
         },
         "layout": {
          "annotationdefaults": {
           "arrowcolor": "#2a3f5f",
           "arrowhead": 0,
           "arrowwidth": 1
          },
          "autotypenumbers": "strict",
          "coloraxis": {
           "colorbar": {
            "outlinewidth": 0,
            "ticks": ""
           }
          },
          "colorscale": {
           "diverging": [
            [
             0,
             "#8e0152"
            ],
            [
             0.1,
             "#c51b7d"
            ],
            [
             0.2,
             "#de77ae"
            ],
            [
             0.3,
             "#f1b6da"
            ],
            [
             0.4,
             "#fde0ef"
            ],
            [
             0.5,
             "#f7f7f7"
            ],
            [
             0.6,
             "#e6f5d0"
            ],
            [
             0.7,
             "#b8e186"
            ],
            [
             0.8,
             "#7fbc41"
            ],
            [
             0.9,
             "#4d9221"
            ],
            [
             1,
             "#276419"
            ]
           ],
           "sequential": [
            [
             0,
             "#0d0887"
            ],
            [
             0.1111111111111111,
             "#46039f"
            ],
            [
             0.2222222222222222,
             "#7201a8"
            ],
            [
             0.3333333333333333,
             "#9c179e"
            ],
            [
             0.4444444444444444,
             "#bd3786"
            ],
            [
             0.5555555555555556,
             "#d8576b"
            ],
            [
             0.6666666666666666,
             "#ed7953"
            ],
            [
             0.7777777777777778,
             "#fb9f3a"
            ],
            [
             0.8888888888888888,
             "#fdca26"
            ],
            [
             1,
             "#f0f921"
            ]
           ],
           "sequentialminus": [
            [
             0,
             "#0d0887"
            ],
            [
             0.1111111111111111,
             "#46039f"
            ],
            [
             0.2222222222222222,
             "#7201a8"
            ],
            [
             0.3333333333333333,
             "#9c179e"
            ],
            [
             0.4444444444444444,
             "#bd3786"
            ],
            [
             0.5555555555555556,
             "#d8576b"
            ],
            [
             0.6666666666666666,
             "#ed7953"
            ],
            [
             0.7777777777777778,
             "#fb9f3a"
            ],
            [
             0.8888888888888888,
             "#fdca26"
            ],
            [
             1,
             "#f0f921"
            ]
           ]
          },
          "colorway": [
           "#636efa",
           "#EF553B",
           "#00cc96",
           "#ab63fa",
           "#FFA15A",
           "#19d3f3",
           "#FF6692",
           "#B6E880",
           "#FF97FF",
           "#FECB52"
          ],
          "font": {
           "color": "#2a3f5f"
          },
          "geo": {
           "bgcolor": "white",
           "lakecolor": "white",
           "landcolor": "#E5ECF6",
           "showlakes": true,
           "showland": true,
           "subunitcolor": "white"
          },
          "hoverlabel": {
           "align": "left"
          },
          "hovermode": "closest",
          "mapbox": {
           "style": "light"
          },
          "paper_bgcolor": "white",
          "plot_bgcolor": "#E5ECF6",
          "polar": {
           "angularaxis": {
            "gridcolor": "white",
            "linecolor": "white",
            "ticks": ""
           },
           "bgcolor": "#E5ECF6",
           "radialaxis": {
            "gridcolor": "white",
            "linecolor": "white",
            "ticks": ""
           }
          },
          "scene": {
           "xaxis": {
            "backgroundcolor": "#E5ECF6",
            "gridcolor": "white",
            "gridwidth": 2,
            "linecolor": "white",
            "showbackground": true,
            "ticks": "",
            "zerolinecolor": "white"
           },
           "yaxis": {
            "backgroundcolor": "#E5ECF6",
            "gridcolor": "white",
            "gridwidth": 2,
            "linecolor": "white",
            "showbackground": true,
            "ticks": "",
            "zerolinecolor": "white"
           },
           "zaxis": {
            "backgroundcolor": "#E5ECF6",
            "gridcolor": "white",
            "gridwidth": 2,
            "linecolor": "white",
            "showbackground": true,
            "ticks": "",
            "zerolinecolor": "white"
           }
          },
          "shapedefaults": {
           "line": {
            "color": "#2a3f5f"
           }
          },
          "ternary": {
           "aaxis": {
            "gridcolor": "white",
            "linecolor": "white",
            "ticks": ""
           },
           "baxis": {
            "gridcolor": "white",
            "linecolor": "white",
            "ticks": ""
           },
           "bgcolor": "#E5ECF6",
           "caxis": {
            "gridcolor": "white",
            "linecolor": "white",
            "ticks": ""
           }
          },
          "title": {
           "x": 0.05
          },
          "xaxis": {
           "automargin": true,
           "gridcolor": "white",
           "linecolor": "white",
           "ticks": "",
           "title": {
            "standoff": 15
           },
           "zerolinecolor": "white",
           "zerolinewidth": 2
          },
          "yaxis": {
           "automargin": true,
           "gridcolor": "white",
           "linecolor": "white",
           "ticks": "",
           "title": {
            "standoff": 15
           },
           "zerolinecolor": "white",
           "zerolinewidth": 2
          }
         }
        },
        "title": {
         "text": "Análise de Funções Diversas (Plotly)"
        },
        "width": 1800,
        "xaxis": {
         "anchor": "y",
         "domain": [
          0,
          0.2888888888888889
         ],
         "title": {
          "text": "Ângulo (rad)"
         }
        },
        "xaxis2": {
         "anchor": "y2",
         "domain": [
          0.35555555555555557,
          0.6444444444444445
         ],
         "title": {
          "text": "x"
         }
        },
        "xaxis3": {
         "anchor": "y3",
         "domain": [
          0.7111111111111111,
          1
         ],
         "title": {
          "text": "Tempo"
         }
        },
        "yaxis": {
         "anchor": "x",
         "domain": [
          0,
          1
         ],
         "title": {
          "text": "Valor"
         }
        },
        "yaxis2": {
         "anchor": "x2",
         "domain": [
          0,
          1
         ],
         "title": {
          "text": "f(x)"
         }
        },
        "yaxis3": {
         "anchor": "x3",
         "domain": [
          0,
          1
         ],
         "title": {
          "text": "Crescimento"
         }
        }
       }
      }
     },
     "metadata": {},
     "output_type": "display_data"
    }
   ],
   "source": [
    "# --- Dados para o Gráfico 1 (Seno e Cosseno) ---\n",
    "x_base = np.linspace(0, 2 * np.pi, 100)\n",
    "plot1_args = {\n",
    "    'y_arrays': [np.sin(x_base), np.cos(x_base)],\n",
    "    'x_arrays': [x_base, x_base],\n",
    "    'title': 'Funções Trigonométricas',\n",
    "    'xname': 'Ângulo (rad)',\n",
    "    'yname': 'Valor',\n",
    "    'legend_labels': ['Seno', 'Cosseno']\n",
    "}\n",
    "\n",
    "# --- Dados para o Gráfico 2 (Polinômios) ---\n",
    "x_poly = np.linspace(-5, 5, 100)\n",
    "plot2_args = {\n",
    "    'y_arrays': [x_poly**2, x_poly**3],\n",
    "    'x_arrays': [x_poly, x_poly],\n",
    "    'title': 'Funções Polinomiais',\n",
    "    'xname': 'x',\n",
    "    'yname': 'f(x)',\n",
    "    'legend_labels': ['x^2', 'x^3']\n",
    "}\n",
    "\n",
    "# --- Dados para o Gráfico 3 (Exponencial) ---\n",
    "x_exp = np.linspace(0, 5, 100)\n",
    "plot3_args = {\n",
    "    'y_arrays': [np.exp(x_exp)],\n",
    "    'x_arrays': [x_exp],\n",
    "    'title': 'Função Exponencial',\n",
    "    'xname': 'Tempo',\n",
    "    'yname': 'Crescimento'\n",
    "}\n",
    "\n",
    "\n",
    "# Lista de todos os plots que queremos combinar\n",
    "all_plots = [plot1_args, plot2_args, plot3_args]\n",
    "\n",
    "# --- Usando a MultiPlot ---\n",
    "\n",
    "# Exemplo 1: Matplotlib (2x2, um ficará em branco)\n",
    "print(\"--- Gerando com Matplotlib (grade 2x2) ---\")\n",
    "MultiPlot(all_plots, rows=3, cols=1, pltly=False, main_title='Análise de Funções Diversas (Matplotlib)', fig_size=(12,8))\n",
    "\n",
    "# Exemplo 2: Plotly (1x3, lado a lado)\n",
    "print(\"\\n--- Gerando com Plotly (grade 1x3) ---\")\n",
    "MultiPlot(all_plots, rows=1, cols=3, pltly=True, main_title='Análise de Funções Diversas (Plotly)', fig_size=(18, 5))"
   ]
  }
 ],
 "metadata": {
  "kernelspec": {
   "display_name": "base",
   "language": "python",
   "name": "python3"
  },
  "language_info": {
   "codemirror_mode": {
    "name": "ipython",
    "version": 3
   },
   "file_extension": ".py",
   "mimetype": "text/x-python",
   "name": "python",
   "nbconvert_exporter": "python",
   "pygments_lexer": "ipython3",
   "version": "3.12.7"
  }
 },
 "nbformat": 4,
 "nbformat_minor": 5
}
