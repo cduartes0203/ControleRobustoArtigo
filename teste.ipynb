{
 "cells": [
  {
   "cell_type": "code",
   "execution_count": 1,
   "id": "838d1262",
   "metadata": {},
   "outputs": [],
   "source": [
    "import numpy as np\n",
    "import matplotlib.pyplot as plt\n",
    "import math"
   ]
  },
  {
   "cell_type": "code",
   "execution_count": null,
   "id": "f02a6b1a",
   "metadata": {},
   "outputs": [],
   "source": [
    "#Variables definition\n",
    "Omega_r = None #Rotor rotational speed\n",
    "Omega_g = None #Generator rotational speed\n",
    "dOmega_r = None #Rotor rotational acceleration\n",
    "dOmega_g = None #Generator rotational acceleration\n",
    "Theta = None #Torsional displacement\n",
    "dTheta = None #Torsional speed\n",
    "Rho_v = 1.225 #Air density\n",
    "v_bar = 10 #Average wind\n",
    "vTil_L = 5 #Minimum wind turbulence intensity\n",
    "vTil_U = 0.2 #Maximum wind turbulence intensity\n",
    "R_r = None #Rotor radius\n",
    "A_r = None #Rotor area\n",
    "Rho_r = None #XXXXX\n",
    "B_dt = 755.49 #Damping of the drivetrain\n",
    "K_dt = 2.7*(1e9) #Stiness of the drivetrain\n",
    "J_r = 55*(1e6) #Inertia of the rotor\n",
    "J_g = 55*(1e6) #Inertia of the drivetrain\n",
    "C_pMax = 0.486 #Max. power coefficient\n",
    "Lambda_opt = 7.6 #Optimal tip-speed ratio\n",
    "Phi_opt = 0 #Optimal pitch angle 0 deg"
   ]
  },
  {
   "cell_type": "markdown",
   "id": "20827d2a",
   "metadata": {},
   "source": [
    "5.1.1 | Aerodynamics Model"
   ]
  },
  {
   "cell_type": "code",
   "execution_count": null,
   "id": "965ebff2",
   "metadata": {},
   "outputs": [],
   "source": [
    "def fTau_r"
   ]
  }
 ],
 "metadata": {
  "kernelspec": {
   "display_name": "venv",
   "language": "python",
   "name": "python3"
  },
  "language_info": {
   "codemirror_mode": {
    "name": "ipython",
    "version": 3
   },
   "file_extension": ".py",
   "mimetype": "text/x-python",
   "name": "python",
   "nbconvert_exporter": "python",
   "pygments_lexer": "ipython3",
   "version": "3.12.7"
  }
 },
 "nbformat": 4,
 "nbformat_minor": 5
}
